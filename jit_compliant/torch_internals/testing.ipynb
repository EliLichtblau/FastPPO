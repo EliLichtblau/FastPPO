{
 "cells": [
  {
   "cell_type": "code",
   "execution_count": null,
   "metadata": {},
   "outputs": [],
   "source": [
    "import torch\n",
    "from torch._VF import broadcast_tensors\n",
    "from typing import List\n",
    "import test\n",
    "import time"
   ]
  },
  {
   "cell_type": "code",
   "execution_count": null,
   "metadata": {},
   "outputs": [],
   "source": [
    "x = torch.arange(3).view(1, 3, 1)\n",
    "y = torch.arange(2).view(2, 1, 1)\n",
    "z = torch.arange(4).view(1, 1,4)\n"
   ]
  },
  {
   "cell_type": "code",
   "execution_count": null,
   "metadata": {},
   "outputs": [],
   "source": [
    "a, b = broadcast_tensors( (x,y))"
   ]
  },
  {
   "cell_type": "code",
   "execution_count": null,
   "metadata": {},
   "outputs": [],
   "source": [
    "print(a.shape, b.shape)"
   ]
  },
  {
   "cell_type": "code",
   "execution_count": null,
   "metadata": {},
   "outputs": [],
   "source": [
    "a,b,c = broadcast_tensors((x,y,z))"
   ]
  },
  {
   "cell_type": "code",
   "execution_count": null,
   "metadata": {},
   "outputs": [],
   "source": [
    "print(a.shape, b.shape, c.shape)"
   ]
  },
  {
   "cell_type": "code",
   "execution_count": null,
   "metadata": {},
   "outputs": [],
   "source": [
    "print(x)"
   ]
  },
  {
   "cell_type": "code",
   "execution_count": null,
   "metadata": {},
   "outputs": [],
   "source": [
    "print(a)"
   ]
  },
  {
   "cell_type": "code",
   "execution_count": null,
   "metadata": {},
   "outputs": [],
   "source": [
    "s = time.time()\n",
    "for _ in range(100_000):\n",
    "    a,b,c = broadcast_tensors((x,y,z))\n",
    "print(f\"Time: {time.time() - s}\")"
   ]
  },
  {
   "cell_type": "code",
   "execution_count": null,
   "metadata": {},
   "outputs": [],
   "source": [
    "from test import broadcast_tensors\n",
    "\n",
    "print(type(broadcast_tensors))"
   ]
  },
  {
   "cell_type": "code",
   "execution_count": null,
   "metadata": {},
   "outputs": [],
   "source": [
    "from test import broadcast_tensors\n",
    "s = time.time()\n",
    "for _ in range(100_000):\n",
    "    a,b,c = test.broadcast_tensors((x,y,z))\n",
    "print(f\"Time: {time.time() - s}\")"
   ]
  },
  {
   "cell_type": "code",
   "execution_count": null,
   "metadata": {},
   "outputs": [],
   "source": [
    "from test import broadcast_tensors\n",
    "print(broadcast_tensors.code)\n",
    "s = time.time()\n",
    "for _ in range(100_000):\n",
    "    a,b,c = broadcast_tensors((x,y,z))\n",
    "print(f\"Time: {time.time() - s}\")"
   ]
  },
  {
   "cell_type": "code",
   "execution_count": null,
   "metadata": {},
   "outputs": [],
   "source": [
    "import torch\n"
   ]
  },
  {
   "cell_type": "code",
   "execution_count": null,
   "metadata": {},
   "outputs": [],
   "source": [
    "def inherit(_superClass):\n",
    "    import inspect\n",
    "    import re\n",
    "    import textwrap\n",
    "    find_super_regex = re.compile(r\"super\\(.*\\)\\.__init__\\(.*\\)\\s*\\n\")\n",
    "    print(f\"Inherit: {super}\")\n",
    "    def decorator(_subClass):\n",
    "        #print(_subClass.__init__)\n",
    "        # Add methods from superClass to subClass\n",
    "        super = _superClass()\n",
    "        super_class_methods = set(dir(super))\n",
    "        super_function_pointers = vars(_superClass)\n",
    "\n",
    "        print(super_function_pointers)\n",
    "        print(super.__dict__)\n",
    "        sub_class_methods = set(dir(_subClass))\n",
    "        non_overriden_methods = super_class_methods - sub_class_methods\n",
    "        #print(\"Super class: \",super_class_methods)\n",
    "        #print(\"Sub class:\", sub_class_methods)\n",
    "        #print(non_overriden_methods)\n",
    "        for method in non_overriden_methods:\n",
    "            setattr(_subClass, method, super_function_pointers[method])\n",
    "            #eval(f\"{_subClass}.{method} = {super_function_pointers[method]}\")\n",
    "            #print(method)\n",
    "            #print(super_function_pointers[method])\n",
    "        \n",
    "        # Add fields by replacing init with first a call to super init with pass self\n",
    "        sub_init = _subClass.__init__\n",
    "        #super = dummy\n",
    "        \n",
    "        def new_init(self):\n",
    "            # honestly there probably is a less fuck shit way of doing this\n",
    "            \n",
    "            #superClassSource = inspect.getsource(_superClass.__init__)\n",
    "            #super_call = re.findall(find_super_regex, superClassSource)\n",
    "            #assert len(super_call) == 1, \"You made more than 1 call to super, what the hell man\"\n",
    "            #superClassSource = superClassSource.replace(super_call, \"\")\n",
    "\n",
    "            #superClassSource = textwrap.dedent(superClassSource)\n",
    "            #eval(superClassSource)\n",
    "            \n",
    "            \n",
    "            #super = _superClass()\n",
    "\n",
    "            sub_init(self)\n",
    "        \n",
    "\n",
    "        _subClass.__init__ = new_init\n",
    "\n",
    "        \n",
    "        \n",
    "        \n",
    "        sub_new = _subClass.__new__\n",
    "        #print(sub_new)\n",
    "        def new_new(self, *args, **kwargs):\n",
    "            return _subClass.__init__(self)\n",
    "        #_subClass.__new__ = new_new\n",
    "        \n",
    "        \n",
    "\n",
    "\n",
    "        return _subClass\n",
    "    \n",
    "    return decorator"
   ]
  },
  {
   "cell_type": "code",
   "execution_count": null,
   "metadata": {},
   "outputs": [],
   "source": [
    "@torch.jit.script\n",
    "class Dummy:\n",
    "    @torch.jit.export\n",
    "    def __init__(self):\n",
    "        #print(f\"super in Dummy: {self}\")\n",
    "        #print(f\"super in Dummy: {super}\")\n",
    "        \n",
    "        #super().__init__()\n",
    "        self.someField = \"my Field\"\n",
    "        self.overridenField = \"BAD\"\n",
    "    @torch.jit.export\n",
    "    def method1(self):\n",
    "        print(\"method1 called\")\n",
    "    @torch.jit.export\n",
    "    def method2(self):\n",
    "        print(self.someField)\n",
    "\n",
    "\n",
    "'''\n",
    "@torch.jit.script\n",
    "#@inherit(Dummy)\n",
    "class SubClass():\n",
    "    def __init__(self):\n",
    "        #print(\"Called Sub Class init\")\n",
    "        super().__init__()\n",
    "        self.subClassField = 10\n",
    "        self.overridenField = \"GOOD\"\n",
    "    def method1(self):\n",
    "        print(\"override\")\n",
    "\n",
    "\n",
    "\n",
    "'''\n",
    "\n",
    "\n",
    "\n"
   ]
  },
  {
   "cell_type": "code",
   "execution_count": null,
   "metadata": {},
   "outputs": [],
   "source": [
    "#print(type(SubClass))\n",
    "s = SubClass()\n",
    "#print(type(s))\n",
    "#print(SubClass.__init__)\n",
    "#s2 = SubClassNorm()\n",
    "#print(dir(Dummy))\n",
    "#print()\n",
    "#print(vars(Dummy))\n",
    "#s.method1()\n",
    "#print(type(s))\n",
    "#print(s.someField)\n",
    "#print(type(s))\n",
    "#import inspect\n",
    "#print(inspect.getsource(SubClass))"
   ]
  },
  {
   "cell_type": "code",
   "execution_count": null,
   "metadata": {},
   "outputs": [],
   "source": [
    "print(s.overridenField)"
   ]
  },
  {
   "cell_type": "markdown",
   "metadata": {},
   "source": [
    "d = Dummy()\n",
    "\n",
    "d.__dict__\n",
    "\n"
   ]
  },
  {
   "cell_type": "code",
   "execution_count": null,
   "metadata": {},
   "outputs": [],
   "source": [
    "Dummy().__dict__"
   ]
  },
  {
   "cell_type": "markdown",
   "metadata": {},
   "source": [
    "Dummy()._parameters.items()\n",
    "Dummy()."
   ]
  },
  {
   "cell_type": "code",
   "execution_count": null,
   "metadata": {},
   "outputs": [],
   "source": [
    "Dummy()._backward_hooks"
   ]
  },
  {
   "cell_type": "code",
   "execution_count": null,
   "metadata": {},
   "outputs": [],
   "source": []
  },
  {
   "cell_type": "code",
   "execution_count": null,
   "metadata": {},
   "outputs": [],
   "source": [
    "\n",
    "class ass:\n",
    "    def __init__(self):\n",
    "        self.BS = \"cat\"\n",
    "\n",
    "\n",
    "class Stupid:\n",
    "    def __init__(self):\n",
    "        self.field = \"cat\"\n",
    "        ass.__init__(self)\n",
    "\n",
    "\n",
    "Stupid().BS"
   ]
  },
  {
   "cell_type": "code",
   "execution_count": null,
   "metadata": {},
   "outputs": [],
   "source": [
    "vars(Stupid)"
   ]
  },
  {
   "cell_type": "code",
   "execution_count": null,
   "metadata": {},
   "outputs": [],
   "source": [
    "vars(Stupid())"
   ]
  },
  {
   "cell_type": "code",
   "execution_count": null,
   "metadata": {},
   "outputs": [],
   "source": [
    "class Dummy(torch.jit.ScriptModule):\n",
    "    def __init__(self):\n",
    "        pass\n",
    "\n",
    "    def method1(self):\n",
    "        print(\"method1 called\")\n",
    "\n",
    "def bs():\n",
    "    print(\"bs function\")\n",
    "\n",
    "def addMethod(_class, method):\n",
    "    print(_class)\n",
    "    print(method)\n",
    "    setattr(_class, \"MYNAME\", method)\n",
    "\n",
    "addMethod(Dummy, bs)\n"
   ]
  },
  {
   "cell_type": "code",
   "execution_count": null,
   "metadata": {},
   "outputs": [],
   "source": [
    "def someFunction():\n",
    "    print(\"line 1\")\n",
    "    print(\"line 2\")\n",
    "\n",
    "import inspect\n",
    "inspect.getsource(someFunction)\n"
   ]
  },
  {
   "cell_type": "code",
   "execution_count": null,
   "metadata": {},
   "outputs": [],
   "source": [
    "class What(object):\n",
    "    def __init__(self):\n",
    "        print(super)\n",
    "        super()\n",
    "\n",
    "w = What()\n",
    "\n",
    "class How(What):\n",
    "    def __init__(self):\n",
    "        print(super)\n",
    "        super().__init__()\n",
    "\n",
    "h = How()"
   ]
  },
  {
   "cell_type": "code",
   "execution_count": null,
   "metadata": {},
   "outputs": [],
   "source": [
    "print(type(super))"
   ]
  },
  {
   "cell_type": "code",
   "execution_count": null,
   "metadata": {},
   "outputs": [],
   "source": [
    "def dummy(*args, **kwargs):\n",
    "    pass\n",
    "\n",
    "tmp = super\n",
    "super = dummy\n",
    "print(type(super))\n",
    "super = tmp"
   ]
  },
  {
   "cell_type": "code",
   "execution_count": null,
   "metadata": {},
   "outputs": [],
   "source": [
    "super = dummy\n",
    "\n",
    "\n",
    "class What(object):\n",
    "    def __init__(self):\n",
    "        print(super)\n",
    "        super()\n",
    "\n",
    "w = What()\n",
    "\n",
    "class How(What):\n",
    "    def __init__(self):\n",
    "        print(super)\n",
    "        super().__init__()\n",
    "\n",
    "h = How()\n"
   ]
  },
  {
   "cell_type": "code",
   "execution_count": null,
   "metadata": {},
   "outputs": [],
   "source": [
    "type(super)"
   ]
  },
  {
   "cell_type": "code",
   "execution_count": null,
   "metadata": {},
   "outputs": [],
   "source": []
  }
 ],
 "metadata": {
  "interpreter": {
   "hash": "986530995c28c771d2897b4daddd2d476b8b432715039674b1aa61d31ff4056b"
  },
  "kernelspec": {
   "display_name": "Python 3.8.12",
   "language": "python",
   "name": "python3"
  },
  "language_info": {
   "codemirror_mode": {
    "name": "ipython",
    "version": 3
   },
   "file_extension": ".py",
   "mimetype": "text/x-python",
   "name": "python",
   "nbconvert_exporter": "python",
   "pygments_lexer": "ipython3",
   "version": "3.8.12"
  },
  "orig_nbformat": 4
 },
 "nbformat": 4,
 "nbformat_minor": 2
}
