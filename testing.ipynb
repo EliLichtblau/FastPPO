{
 "cells": [
  {
   "cell_type": "code",
   "execution_count": null,
   "id": "6c68fd47",
   "metadata": {},
   "outputs": [],
   "source": [
    "import gym\n",
    "from stable_baselines3 import PPO\n",
    "env = gym.make(\"CartPole-v1\")\n"
   ]
  },
  {
   "cell_type": "code",
   "execution_count": null,
   "id": "d8529062",
   "metadata": {},
   "outputs": [],
   "source": [
    "model = PPO(\"MlpPolicy\", env, verbose=0)"
   ]
  },
  {
   "cell_type": "code",
   "execution_count": null,
   "id": "2ad5e467",
   "metadata": {},
   "outputs": [],
   "source": [
    "model.policy._build(lambda x: x)"
   ]
  },
  {
   "cell_type": "code",
   "execution_count": null,
   "id": "0b4ecdbc",
   "metadata": {},
   "outputs": [],
   "source": [
    "model.policy.action_dist"
   ]
  },
  {
   "cell_type": "code",
   "execution_count": null,
   "id": "5afe2f5c",
   "metadata": {},
   "outputs": [],
   "source": [
    "model.learn(10_000)"
   ]
  },
  {
   "cell_type": "code",
   "execution_count": null,
   "id": "d6328832",
   "metadata": {},
   "outputs": [],
   "source": [
    "import numpy as np\n",
    "from gym import spaces"
   ]
  },
  {
   "cell_type": "code",
   "execution_count": null,
   "id": "b7b196d7",
   "metadata": {},
   "outputs": [],
   "source": [
    "n_landmarks = 1\n",
    "n_agents = 5\n",
    "obsmin = np.concatenate([[-np.inf] * n_landmarks,\n",
    "                                [-np.pi] *n_landmarks, \n",
    "                                [-np.inf] * (n_agents ),\n",
    "                        [0] * (n_agents )])\n",
    "obsmax = np.concatenate([[np.inf] * n_landmarks,\n",
    "                        [np.pi] * n_landmarks, \n",
    "                        [np.inf] * (n_agents ),\n",
    "                        [5.0 * 2] * (n_agents)])"
   ]
  },
  {
   "cell_type": "code",
   "execution_count": null,
   "id": "325d1b9d",
   "metadata": {},
   "outputs": [],
   "source": [
    "observation_space = spaces.Box(low=obsmin, high=obsmax, dtype=np.float32)"
   ]
  },
  {
   "cell_type": "code",
   "execution_count": null,
   "id": "3f569e24",
   "metadata": {},
   "outputs": [],
   "source": [
    "print(observation_space.shape, obsmin.shape, obsmax.shape)"
   ]
  },
  {
   "cell_type": "code",
   "execution_count": null,
   "id": "bfc2ae6c",
   "metadata": {},
   "outputs": [],
   "source": [
    "from functools import reduce\n",
    "import operator\n",
    "reduce(operator.mul, observation_space.shape, 1)"
   ]
  },
  {
   "cell_type": "code",
   "execution_count": null,
   "id": "0ebcc646",
   "metadata": {},
   "outputs": [],
   "source": [
    "import torch"
   ]
  },
  {
   "cell_type": "code",
   "execution_count": null,
   "id": "b9248f99",
   "metadata": {},
   "outputs": [],
   "source": [
    "ctrl_thetas = torch.zeros((6,1))\n",
    "ctrl_speeds = torch.zeros((6,1))"
   ]
  },
  {
   "cell_type": "code",
   "execution_count": null,
   "id": "84ae9ebb",
   "metadata": {},
   "outputs": [],
   "source": [
    "torch.cat([ctrl_thetas, ctrl_thetas], dim=1)"
   ]
  },
  {
   "cell_type": "code",
   "execution_count": null,
   "id": "267363f6",
   "metadata": {},
   "outputs": [],
   "source": [
    "movables = torch.zeros(6,1, dtype=torch.bool)\n",
    "movables[:5] = 1\n",
    "print(movables)\n",
    "print(torch.logical_xor(movables, ~(movables.T)))"
   ]
  },
  {
   "cell_type": "code",
   "execution_count": null,
   "id": "0357d26f",
   "metadata": {},
   "outputs": [],
   "source": [
    "torch.logical_not(movables)"
   ]
  },
  {
   "cell_type": "code",
   "execution_count": null,
   "id": "2b20d844",
   "metadata": {},
   "outputs": [],
   "source": [
    "a = torch.randn(6,6)"
   ]
  },
  {
   "cell_type": "code",
   "execution_count": null,
   "id": "78734556",
   "metadata": {},
   "outputs": [],
   "source": [
    "a.sum()"
   ]
  },
  {
   "cell_type": "code",
   "execution_count": null,
   "id": "901d350e",
   "metadata": {},
   "outputs": [],
   "source": []
  }
 ],
 "metadata": {
  "kernelspec": {
   "display_name": "Python 3",
   "language": "python",
   "name": "python3"
  },
  "language_info": {
   "codemirror_mode": {
    "name": "ipython",
    "version": 3
   },
   "file_extension": ".py",
   "mimetype": "text/x-python",
   "name": "python",
   "nbconvert_exporter": "python",
   "pygments_lexer": "ipython3",
   "version": "3.8.12"
  }
 },
 "nbformat": 4,
 "nbformat_minor": 5
}
